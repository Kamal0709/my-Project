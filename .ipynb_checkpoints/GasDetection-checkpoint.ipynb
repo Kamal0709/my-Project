{
 "cells": [
  {
   "cell_type": "code",
   "execution_count": 32,
   "metadata": {},
   "outputs": [],
   "source": [
    "import warnings\n",
    "warnings.filterwarnings('ignore')"
   ]
  },
  {
   "cell_type": "code",
   "execution_count": 33,
   "metadata": {},
   "outputs": [],
   "source": [
    "#import python require classes and packages\n",
    "import pandas as pd\n",
    "import numpy as np\n",
    "from keras.utils.np_utils import to_categorical\n",
    "from sklearn.metrics import accuracy_score\n",
    "from sklearn.model_selection import train_test_split\n",
    "from keras.callbacks import ModelCheckpoint\n",
    "import keras\n",
    "from tensorflow.keras.models import Sequential\n",
    "from tensorflow.keras.layers import Dense, Flatten, Conv3D, MaxPooling3D, Dropout, BatchNormalization\n",
    "import os\n",
    "import pickle\n",
    "from tensorflow.keras.layers import Bidirectional, GRU, LSTM, Conv1D, MaxPooling1D, RepeatVector#loading GRU, bidriectional, lstm and CNN\n",
    "import seaborn as sns\n",
    "from sklearn.metrics import precision_score\n",
    "from sklearn.metrics import recall_score\n",
    "from sklearn.metrics import f1_score\n",
    "from sklearn.metrics import confusion_matrix\n",
    "import matplotlib.pyplot as plt"
   ]
  },
  {
   "cell_type": "code",
   "execution_count": 34,
   "metadata": {},
   "outputs": [
    {
     "name": "stdout",
     "output_type": "stream",
     "text": [
      "[[ 2.05135465e+00 -6.21038854e-01 -1.01263273e+00 ...  1.81731224e-01\n",
      "   7.83754885e-02  0.00000000e+00]\n",
      " [ 1.16059709e+00 -1.10688722e+00  2.59009629e-01 ...  1.63491383e-01\n",
      "   5.51013313e-02  0.00000000e+00]\n",
      " [ 7.76264012e-01  5.67661703e-01  1.18108869e-01 ...  1.81731224e-01\n",
      "   1.46639258e-01  0.00000000e+00]\n",
      " ...\n",
      " [ 1.22358404e-01  7.92421484e+00  6.07931824e+01 ... -6.02060020e-01\n",
      "  -6.18912101e-01 -6.02060020e-01]\n",
      " [ 1.05720289e-01  9.24506569e+00  8.34711914e+01 ... -6.70829296e-01\n",
      "  -6.70829296e-01 -6.02060020e-01]\n",
      " [ 9.49363187e-02  1.03417597e+01  1.04952034e+02 ... -6.70829296e-01\n",
      "  -6.70829296e-01 -6.02060020e-01]]\n"
     ]
    }
   ],
   "source": [
    "#load hypersectral spectrum images dataset\n",
    "X = np.load(\"Dataset/ei-methane-monitoring---silabs-efr32xg24-dev-kit-spectral-features-X.npy\")\n",
    "Y = np.load(\"Dataset/ei-methane-monitoring---silabs-efr32xg24-dev-kit-spectral-features-y.npy\")\n",
    "print(X)"
   ]
  },
  {
   "cell_type": "code",
   "execution_count": 35,
   "metadata": {},
   "outputs": [
    {
     "data": {
      "image/png": "[encoded data removed]",
      "text/plain": [
       "<Figure size 288x216 with 1 Axes>"
      ]
     },
     "metadata": {
      "needs_background": "light"
     },
     "output_type": "display_data"
    }
   ],
   "source": [
    "#find and plot graph of methane and sulphur-di-oxide leak from hypersectral images features\n",
    "#non-novelty seeking\n",
    "#plot labels in dataset\n",
    "Y = Y[:,0]\n",
    "Y[Y == 1] = 0\n",
    "Y[Y == 2] = 1\n",
    "labels, count = np.unique(Y, return_counts = True)\n",
    "labels = ['Methane', 'Sulphur']\n",
    "height = count\n",
    "bars = labels\n",
    "y_pos = np.arange(len(bars))\n",
    "plt.figure(figsize = (4, 3)) \n",
    "plt.bar(y_pos, height)\n",
    "plt.xticks(y_pos, bars)\n",
    "plt.xlabel(\"Dataset Class Label Graph\")\n",
    "plt.ylabel(\"Count\")\n",
    "plt.show()"
   ]
  },
  {
   "cell_type": "code",
   "execution_count": 36,
   "metadata": {},
   "outputs": [
    {
     "name": "stdout",
     "output_type": "stream",
     "text": [
      "\n",
      "Dataset train & test split as 80% dataset for training and 20% for testing\n",
      "Training Size (80%): 178\n",
      "Testing Size (20%): 45\n",
      "\n"
     ]
    }
   ],
   "source": [
    "#dataset preprocessing like shuffling and splitting dataset into train and test\n",
    "indices = np.arange(X.shape[0])\n",
    "np.random.shuffle(indices)\n",
    "X = X[indices]\n",
    "Y = Y[indices]\n",
    "Y = to_categorical(Y)\n",
    "#reshape dataset as 4 dimension data for 3DCNN\n",
    "X = np.reshape(X, (X.shape[0], X.shape[1], 1, 1, 1))\n",
    "X_train, X_test, y_train, y_test = train_test_split(X, Y, test_size=0.2) #split dataset into train and test\n",
    "print()\n",
    "print(\"Dataset train & test split as 80% dataset for training and 20% for testing\")\n",
    "print(\"Training Size (80%): \"+str(X_train.shape[0])) #print training and test size\n",
    "print(\"Testing Size (20%): \"+str(X_test.shape[0]))\n",
    "print()"
   ]
  },
  {
   "cell_type": "code",
   "execution_count": 37,
   "metadata": {},
   "outputs": [
    {
     "data": {
      "text/plain": [
       "(178, 11, 1, 1, 1)"
      ]
     },
     "execution_count": 37,
     "metadata": {},
     "output_type": "execute_result"
    }
   ],
   "source": [
    "X_train.shape"
   ]
  },
  {
   "cell_type": "code",
   "execution_count": 38,
   "metadata": {},
   "outputs": [],
   "source": [
    "#define global variables to calculate and store accuracy and other metrics\n",
    "precision = []\n",
    "recall = []\n",
    "fscore = []\n",
    "accuracy = []"
   ]
  },
  {
   "cell_type": "code",
   "execution_count": 61,
   "metadata": {},
   "outputs": [],
   "source": [
    "ML_Model = []\n",
    "acc = []\n",
    "prec = []\n",
    "rec = []\n",
    "f1 = []\n",
    "\n",
    "#function to call for storing the results\n",
    "def storeResults(model, a,b,c,d):\n",
    "    ML_Model.append(model)\n",
    "    acc.append(round(a, 3))\n",
    "    prec.append(round(b, 3))\n",
    "    rec.append(round(c, 3))\n",
    "    f1.append(round(d, 3))"
   ]
  },
  {
   "cell_type": "code",
   "execution_count": 40,
   "metadata": {},
   "outputs": [],
   "source": [
    "#function to calculate various metrics such as accuracy, precision etc\n",
    "def calculateMetrics(algorithm, predict, testY):\n",
    "    p = precision_score(testY, predict,average='macro') * 100\n",
    "    r = recall_score(testY, predict,average='macro') * 100\n",
    "    f = f1_score(testY, predict,average='macro') * 100\n",
    "    a = accuracy_score(testY,predict)*100     \n",
    "    print(algorithm+' Accuracy  : '+str(a))\n",
    "    print(algorithm+' Precision   : '+str(p))\n",
    "    print(algorithm+' Recall      : '+str(r))\n",
    "    print(algorithm+' FMeasure    : '+str(f))    \n",
    "    accuracy.append(a)\n",
    "    precision.append(p)\n",
    "    recall.append(r)\n",
    "    fscore.append(f)\n",
    "    conf_matrix = confusion_matrix(testY, predict) \n",
    "    plt.figure(figsize =(4, 4)) \n",
    "    ax = sns.heatmap(conf_matrix, xticklabels = labels, yticklabels = labels, annot = True, cmap=\"viridis\" ,fmt =\"g\");\n",
    "    ax.set_ylim([0,len(labels)])\n",
    "    plt.title(algorithm+\" Confusion matrix\") \n",
    "    plt.ylabel('True class') \n",
    "    plt.xlabel('Predicted class') \n",
    "    plt.show()"
   ]
  },
  {
   "cell_type": "markdown",
   "metadata": {},
   "source": [
    "# CNN"
   ]
  },
  {
   "cell_type": "code",
   "execution_count": 41,
   "metadata": {},
   "outputs": [
    {
     "name": "stdout",
     "output_type": "stream",
     "text": [
      "Propose 3DCNN Encoder Decoder Model Accuracy  : 91.11111111111111\n",
      "Propose 3DCNN Encoder Decoder Model Precision   : 92.5925925925926\n",
      "Propose 3DCNN Encoder Decoder Model Recall      : 90.90909090909092\n",
      "Propose 3DCNN Encoder Decoder Model FMeasure    : 91.0\n"
     ]
    },
    {
     "data": {
      "image/png": "[encoded data removed]",
      "text/plain": [
       "<Figure size 288x288 with 2 Axes>"
      ]
     },
     "metadata": {
      "needs_background": "light"
     },
     "output_type": "display_data"
    }
   ],
   "source": [
    "#train encoder decoder based 3DCNN algorithm for gas classification\n",
    "#create 3DCNN based encoder and decoder model\n",
    "encoder = Conv3D(32, kernel_size=(1, 1, 1), activation='relu', kernel_initializer='he_uniform', input_shape=(X_train.shape[1], X_train.shape[2], X_train.shape[3],X_train.shape[4]))\n",
    "decoder = Dense(704, activation='relu', kernel_initializer='he_uniform')               \n",
    "# Create the model\n",
    "cnn_model = Sequential()\n",
    "#add encoder model to extract filtered features from hyper sectral images\n",
    "cnn_model.add(encoder)\n",
    "#add max pool layer to collect filtered features from CNN\n",
    "cnn_model.add(MaxPooling3D(pool_size=(1, 1, 1)))\n",
    "#normalized training features\n",
    "cnn_model.add(BatchNormalization(center=True, scale=True))\n",
    "#drop irrelevant features\n",
    "cnn_model.add(Dropout(0.5))\n",
    "#adding another 3DCNN layer\n",
    "cnn_model.add(Conv3D(64, kernel_size=(1, 1, 1), activation='relu', kernel_initializer='he_uniform'))\n",
    "cnn_model.add(MaxPooling3D(pool_size=(1, 1, 1)))\n",
    "cnn_model.add(BatchNormalization(center=True, scale=True))\n",
    "cnn_model.add(Dropout(0.5))\n",
    "cnn_model.add(Flatten())\n",
    "#adding decoder as the outout layer\n",
    "cnn_model.add(decoder)\n",
    "cnn_model.add(decoder)\n",
    "cnn_model.add(Dense(y_train.shape[1], activation='softmax'))\n",
    "#compile and train the model\n",
    "cnn_model.compile(optimizer = 'adam', loss = 'categorical_crossentropy', metrics = ['accuracy'])\n",
    "if os.path.exists(\"model/cnn_weights.hdf5\") == False:\n",
    "    model_check_point = ModelCheckpoint(filepath='model/cnn_weights.hdf5', verbose = 1, save_best_only = True)\n",
    "    hist = cnn_model.fit(X_train, y_train, batch_size = 32, epochs = 20, validation_data=(X_test, y_test), callbacks=[model_check_point], verbose=1)\n",
    "    f = open('model/cnn_history.pckl', 'wb')\n",
    "    pickle.dump(hist.history, f)\n",
    "    f.close()    \n",
    "else:\n",
    "    cnn_model.load_weights(\"model/cnn_weights.hdf5\")\n",
    "#perform prediction on test data   \n",
    "predict = cnn_model.predict(X_test)\n",
    "predict = np.argmax(predict, axis=1)\n",
    "y_test1 = np.argmax(y_test, axis=1)\n",
    "calculateMetrics(\"Propose 3DCNN Encoder Decoder Model\", predict, y_test1)#calculate accuracy and other metrics"
   ]
  },
  {
   "cell_type": "code",
   "execution_count": 42,
   "metadata": {},
   "outputs": [],
   "source": [
    "cnn_acc = accuracy_score(predict, y_test1)\n",
    "cnn_prec = precision_score(predict, y_test1)\n",
    "cnn_rec = recall_score(predict, y_test1)\n",
    "cnn_f1 = f1_score(predict, y_test1)"
   ]
  },
  {
   "cell_type": "code",
   "execution_count": 62,
   "metadata": {},
   "outputs": [],
   "source": [
    "storeResults('Propose 3DCNN Encoder Decoder Model',cnn_acc,cnn_prec,cnn_rec,cnn_f1)"
   ]
  },
  {
   "cell_type": "markdown",
   "metadata": {},
   "source": [
    "# CNN + BiGRU"
   ]
  },
  {
   "cell_type": "code",
   "execution_count": null,
   "metadata": {},
   "outputs": [],
   "source": [
    "X_train = np.reshape(X_train, (X_train.shape[0], X_train.shape[1], (X_train.shape[2] * X_train.shape[3] * X_train.shape[4])))\n",
    "X_test = np.reshape(X_test, (X_test.shape[0], X_test.shape[1], (X_test.shape[2] * X_test.shape[3] * X_test.shape[4])))"
   ]
  },
  {
   "cell_type": "code",
   "execution_count": 46,
   "metadata": {},
   "outputs": [
    {
     "name": "stdout",
     "output_type": "stream",
     "text": [
      "WARNING:tensorflow:Layer gru_3 will not use cuDNN kernels since it doesn't meet the criteria. It will use a generic GPU kernel as fallback when running on GPU.\n",
      "WARNING:tensorflow:Layer gru_3 will not use cuDNN kernels since it doesn't meet the criteria. It will use a generic GPU kernel as fallback when running on GPU.\n",
      "WARNING:tensorflow:Layer gru_3 will not use cuDNN kernels since it doesn't meet the criteria. It will use a generic GPU kernel as fallback when running on GPU.\n"
     ]
    }
   ],
   "source": [
    "\n",
    "#now define extension model by combining two different models called BERT + CNN + BiGRU models as this CNN + bi-lstm will \n",
    "#optimized features from both forward and backward direction so it will have more optimzied features and accuracy will be better\n",
    "extension_model = Sequential()\n",
    "#defining CNN layer\n",
    "extension_model.add(Conv1D(filters=32, kernel_size = 1, activation = 'relu', input_shape = (X_train.shape[1], X_train.shape[2])))\n",
    "extension_model.add(Conv1D(filters=16, kernel_size = 1, activation = 'relu'))\n",
    "#adding maxpool layer\n",
    "extension_model.add(MaxPooling1D(pool_size = 2))\n",
    "extension_model.add(Dropout(0.3))\n",
    "extension_model.add(Flatten())\n",
    "extension_model.add(RepeatVector(2))\n",
    "#adding bidirectional + GRU to CNN layer\n",
    "extension_model.add(Bidirectional(GRU(24, activation = 'relu')))\n",
    "extension_model.add(Dropout(0.3))\n",
    "#defining output layer\n",
    "extension_model.add(Dense(units = 33, activation = 'softmax'))\n",
    "extension_model.add(Dense(units = y_train.shape[1], activation = 'softmax'))\n",
    "#compile and train the model\n",
    "extension_model.compile(optimizer = 'adam', loss = 'categorical_crossentropy', metrics = ['accuracy'])"
   ]
  },
  {
   "cell_type": "code",
   "execution_count": 48,
   "metadata": {},
   "outputs": [
    {
     "name": "stdout",
     "output_type": "stream",
     "text": [
      "Epoch 1/50\n",
      "89/89 [==============================] - 1s 16ms/step - loss: 0.1155 - accuracy: 0.9551 - val_loss: 0.0850 - val_accuracy: 0.9663\n",
      "Epoch 2/50\n",
      "89/89 [==============================] - 1s 15ms/step - loss: 0.0933 - accuracy: 0.9663 - val_loss: 0.0805 - val_accuracy: 0.9663\n",
      "Epoch 3/50\n",
      "89/89 [==============================] - 1s 15ms/step - loss: 0.0953 - accuracy: 0.9663 - val_loss: 0.0787 - val_accuracy: 0.9663\n",
      "Epoch 4/50\n",
      "89/89 [==============================] - 1s 15ms/step - loss: 0.0862 - accuracy: 0.9607 - val_loss: 0.0816 - val_accuracy: 0.9663\n",
      "Epoch 5/50\n",
      "89/89 [==============================] - 1s 15ms/step - loss: 0.0977 - accuracy: 0.9607 - val_loss: 0.0765 - val_accuracy: 0.9663\n",
      "Epoch 6/50\n",
      "89/89 [==============================] - 1s 15ms/step - loss: 0.1020 - accuracy: 0.9607 - val_loss: 0.0679 - val_accuracy: 0.9719\n",
      "Epoch 7/50\n",
      "89/89 [==============================] - 1s 16ms/step - loss: 0.1312 - accuracy: 0.9438 - val_loss: 0.1370 - val_accuracy: 0.9438\n",
      "Epoch 8/50\n",
      "89/89 [==============================] - 1s 15ms/step - loss: 0.1199 - accuracy: 0.9494 - val_loss: 0.0882 - val_accuracy: 0.9607\n",
      "Epoch 9/50\n",
      "89/89 [==============================] - 1s 15ms/step - loss: 0.1039 - accuracy: 0.9551 - val_loss: 0.0653 - val_accuracy: 0.9663\n",
      "Epoch 10/50\n",
      "89/89 [==============================] - 1s 15ms/step - loss: 0.0727 - accuracy: 0.9719 - val_loss: 0.0629 - val_accuracy: 0.9663\n",
      "Epoch 11/50\n",
      "89/89 [==============================] - 1s 16ms/step - loss: 0.0658 - accuracy: 0.9719 - val_loss: 0.0590 - val_accuracy: 0.9663\n",
      "Epoch 12/50\n",
      "89/89 [==============================] - 1s 15ms/step - loss: 0.0624 - accuracy: 0.9663 - val_loss: 0.0554 - val_accuracy: 0.9719\n",
      "Epoch 13/50\n",
      "89/89 [==============================] - 1s 15ms/step - loss: 0.0926 - accuracy: 0.9551 - val_loss: 0.0521 - val_accuracy: 0.9663\n",
      "Epoch 14/50\n",
      "89/89 [==============================] - 1s 15ms/step - loss: 0.0772 - accuracy: 0.9663 - val_loss: 0.0520 - val_accuracy: 0.9719\n",
      "Epoch 15/50\n",
      "89/89 [==============================] - 1s 15ms/step - loss: 0.0846 - accuracy: 0.9551 - val_loss: 0.0545 - val_accuracy: 0.9888\n",
      "Epoch 16/50\n",
      "89/89 [==============================] - 1s 16ms/step - loss: 0.0857 - accuracy: 0.9663 - val_loss: 0.0524 - val_accuracy: 0.9888\n",
      "Epoch 17/50\n",
      "89/89 [==============================] - 1s 15ms/step - loss: 0.0709 - accuracy: 0.9831 - val_loss: 0.0490 - val_accuracy: 0.9944\n",
      "Epoch 18/50\n",
      "89/89 [==============================] - 1s 15ms/step - loss: 0.0825 - accuracy: 0.9831 - val_loss: 0.0463 - val_accuracy: 1.0000\n",
      "Epoch 19/50\n",
      "89/89 [==============================] - 1s 15ms/step - loss: 0.0703 - accuracy: 0.9888 - val_loss: 0.0489 - val_accuracy: 0.9888\n",
      "Epoch 20/50\n",
      "89/89 [==============================] - 1s 15ms/step - loss: 0.1010 - accuracy: 0.9607 - val_loss: 0.0484 - val_accuracy: 0.9888\n",
      "Epoch 21/50\n",
      "89/89 [==============================] - 1s 15ms/step - loss: 0.0799 - accuracy: 0.9831 - val_loss: 0.0461 - val_accuracy: 0.9888\n",
      "Epoch 22/50\n",
      "89/89 [==============================] - 1s 15ms/step - loss: 0.0569 - accuracy: 0.9775 - val_loss: 0.0443 - val_accuracy: 0.9888\n",
      "Epoch 23/50\n",
      "89/89 [==============================] - 1s 15ms/step - loss: 0.0593 - accuracy: 0.9888 - val_loss: 0.0426 - val_accuracy: 0.9888\n",
      "Epoch 24/50\n",
      "89/89 [==============================] - 1s 15ms/step - loss: 0.0743 - accuracy: 0.9775 - val_loss: 0.0414 - val_accuracy: 0.9944\n",
      "Epoch 25/50\n",
      "89/89 [==============================] - 1s 15ms/step - loss: 0.0464 - accuracy: 1.0000 - val_loss: 0.0408 - val_accuracy: 0.9888\n",
      "Epoch 26/50\n",
      "89/89 [==============================] - 1s 15ms/step - loss: 0.0896 - accuracy: 0.9719 - val_loss: 0.0396 - val_accuracy: 1.0000\n",
      "Epoch 27/50\n",
      "89/89 [==============================] - 1s 15ms/step - loss: 0.0452 - accuracy: 0.9888 - val_loss: 0.0385 - val_accuracy: 0.9944\n",
      "Epoch 28/50\n",
      "89/89 [==============================] - 1s 15ms/step - loss: 0.0501 - accuracy: 0.9831 - val_loss: 0.0379 - val_accuracy: 1.0000\n",
      "Epoch 29/50\n",
      "89/89 [==============================] - 1s 15ms/step - loss: 0.0574 - accuracy: 0.9944 - val_loss: 0.0364 - val_accuracy: 1.0000\n",
      "Epoch 30/50\n",
      "89/89 [==============================] - 1s 15ms/step - loss: 0.0506 - accuracy: 0.9944 - val_loss: 0.0347 - val_accuracy: 1.0000\n",
      "Epoch 31/50\n",
      "89/89 [==============================] - 1s 15ms/step - loss: 0.0650 - accuracy: 0.9888 - val_loss: 0.0335 - val_accuracy: 1.0000\n",
      "Epoch 32/50\n",
      "89/89 [==============================] - 1s 15ms/step - loss: 0.0860 - accuracy: 0.9663 - val_loss: 0.0339 - val_accuracy: 0.9944\n",
      "Epoch 33/50\n",
      "89/89 [==============================] - 1s 16ms/step - loss: 0.0776 - accuracy: 0.9831 - val_loss: 0.0326 - val_accuracy: 1.0000\n",
      "Epoch 34/50\n",
      "89/89 [==============================] - 1s 15ms/step - loss: 0.0571 - accuracy: 0.9888 - val_loss: 0.0312 - val_accuracy: 1.0000\n",
      "Epoch 35/50\n",
      "89/89 [==============================] - 1s 15ms/step - loss: 0.0558 - accuracy: 0.9888 - val_loss: 0.0303 - val_accuracy: 1.0000\n",
      "Epoch 36/50\n",
      "89/89 [==============================] - 1s 16ms/step - loss: 0.0713 - accuracy: 0.9831 - val_loss: 0.0303 - val_accuracy: 0.9944\n",
      "Epoch 37/50\n",
      "89/89 [==============================] - 1s 16ms/step - loss: 0.0411 - accuracy: 0.9888 - val_loss: 0.0289 - val_accuracy: 1.0000\n",
      "Epoch 38/50\n",
      "89/89 [==============================] - 1s 15ms/step - loss: 0.0552 - accuracy: 0.9888 - val_loss: 0.0276 - val_accuracy: 1.0000\n",
      "Epoch 39/50\n",
      "89/89 [==============================] - 1s 15ms/step - loss: 0.0280 - accuracy: 1.0000 - val_loss: 0.0264 - val_accuracy: 1.0000\n",
      "Epoch 40/50\n",
      "89/89 [==============================] - 1s 15ms/step - loss: 0.0769 - accuracy: 0.9831 - val_loss: 0.0285 - val_accuracy: 0.9944\n",
      "Epoch 41/50\n",
      "89/89 [==============================] - 1s 15ms/step - loss: 0.0439 - accuracy: 0.9831 - val_loss: 0.0257 - val_accuracy: 1.0000\n",
      "Epoch 42/50\n",
      "89/89 [==============================] - 1s 16ms/step - loss: 0.0327 - accuracy: 0.9944 - val_loss: 0.0251 - val_accuracy: 1.0000\n",
      "Epoch 43/50\n",
      "89/89 [==============================] - 1s 15ms/step - loss: 0.0365 - accuracy: 0.9888 - val_loss: 0.0251 - val_accuracy: 1.0000\n",
      "Epoch 44/50\n",
      "89/89 [==============================] - 1s 15ms/step - loss: 0.1346 - accuracy: 0.9663 - val_loss: 0.0257 - val_accuracy: 1.0000\n",
      "Epoch 45/50\n",
      "89/89 [==============================] - 1s 15ms/step - loss: 0.0478 - accuracy: 0.9831 - val_loss: 0.0250 - val_accuracy: 1.0000\n",
      "Epoch 46/50\n",
      "89/89 [==============================] - 1s 15ms/step - loss: 0.0283 - accuracy: 0.9944 - val_loss: 0.0238 - val_accuracy: 1.0000\n",
      "Epoch 47/50\n",
      "89/89 [==============================] - 1s 15ms/step - loss: 0.0310 - accuracy: 0.9944 - val_loss: 0.0225 - val_accuracy: 1.0000\n",
      "Epoch 48/50\n",
      "89/89 [==============================] - 1s 15ms/step - loss: 0.0532 - accuracy: 0.9888 - val_loss: 0.0211 - val_accuracy: 1.0000\n",
      "Epoch 49/50\n",
      "89/89 [==============================] - 1s 15ms/step - loss: 0.0220 - accuracy: 1.0000 - val_loss: 0.0204 - val_accuracy: 1.0000\n",
      "Epoch 50/50\n",
      "89/89 [==============================] - 1s 15ms/step - loss: 0.0212 - accuracy: 1.0000 - val_loss: 0.0189 - val_accuracy: 1.0000\n",
      "Extension Ensemble CNN + Bidirectional + GRU Model Accuracy  : 100.0\n",
      "Extension Ensemble CNN + Bidirectional + GRU Model Precision   : 100.0\n",
      "Extension Ensemble CNN + Bidirectional + GRU Model Recall      : 100.0\n",
      "Extension Ensemble CNN + Bidirectional + GRU Model FMeasure    : 100.0\n"
     ]
    },
    {
     "data": {
      "image/png": "[encoded data removed]",
      "text/plain": [
       "<Figure size 288x288 with 2 Axes>"
      ]
     },
     "metadata": {
      "needs_background": "light"
     },
     "output_type": "display_data"
    }
   ],
   "source": [
    "hist = extension_model.fit(X_train, y_train, batch_size = 2, epochs = 50, validation_data=(X_train, y_train), verbose=1)\n",
    "    \n",
    "#perform prediction on test data using bidirectional LSTM on test data   \n",
    "predict = extension_model.predict(X_train)\n",
    "predict = np.argmax(predict, axis=1)\n",
    "y_test1 = np.argmax(y_train, axis=1)\n",
    "calculateMetrics(\"Extension Ensemble CNN + Bidirectional + GRU Model\", predict, y_test1)#calculate accuracy and other metrics"
   ]
  },
  {
   "cell_type": "code",
   "execution_count": 49,
   "metadata": {},
   "outputs": [],
   "source": [
    "ext_acc = accuracy_score(predict, y_test1)\n",
    "ext_prec = precision_score(predict, y_test1)\n",
    "ext_rec = recall_score(predict, y_test1)\n",
    "ext_f1 = f1_score(predict, y_test1)"
   ]
  },
  {
   "cell_type": "code",
   "execution_count": 63,
   "metadata": {},
   "outputs": [],
   "source": [
    "storeResults('Extension Ensemble CNN + Bidirectional + GRU Model',ext_acc,ext_prec,ext_rec,ext_f1)"
   ]
  },
  {
   "cell_type": "code",
   "execution_count": 57,
   "metadata": {},
   "outputs": [],
   "source": [
    "extension_model.save('model.h5')"
   ]
  },
  {
   "cell_type": "code",
   "execution_count": 51,
   "metadata": {},
   "outputs": [],
   "source": [
    "def values(filename, acc, loss):\n",
    "    f = open(filename, 'rb')\n",
    "    train_values = pickle.load(f)\n",
    "    f.close()\n",
    "    accuracy_value = train_values[acc]\n",
    "    loss_value = train_values[loss]\n",
    "    return accuracy_value, loss_value"
   ]
  },
  {
   "cell_type": "code",
   "execution_count": 52,
   "metadata": {},
   "outputs": [
    {
     "data": {
      "image/png": "[encoded data removed]",
      "text/plain": [
       "<Figure size 720x432 with 1 Axes>"
      ]
     },
     "metadata": {
      "needs_background": "light"
     },
     "output_type": "display_data"
    }
   ],
   "source": [
    "propose_acc, propose_loss = values(\"model/cnn_history.pckl\", \"accuracy\", \"loss\")\n",
    "extension_acc, extension_loss = values(\"model/extension_history.pckl\", \"accuracy\", \"loss\")\n",
    "    \n",
    "plt.figure(figsize=(10,6))\n",
    "plt.grid(True)\n",
    "plt.xlabel('EPOCH')\n",
    "plt.ylabel('Accuracy')\n",
    "plt.plot(propose_acc, 'ro-', color = 'green')\n",
    "plt.plot(extension_acc, 'ro-', color = 'blue')\n",
    "plt.legend(['Propose 3DCNN Encoder Decoder Model', 'Extension Ensemble CNN + Bidirectional + GRU Model'], loc='upper left')\n",
    "plt.title('All Algorithm Training Accuracy Graph')\n",
    "plt.show()"
   ]
  },
  {
   "cell_type": "code",
   "execution_count": 53,
   "metadata": {},
   "outputs": [
    {
     "data": {
      "image/png": "[encoded data removed]",
      "text/plain": [
       "<Figure size 432x216 with 1 Axes>"
      ]
     },
     "metadata": {
      "needs_background": "light"
     },
     "output_type": "display_data"
    }
   ],
   "source": [
    "df = pd.DataFrame([['Propose','Accuracy',accuracy[0]],['Propose','Precision',precision[0]],['Propose','Recall',recall[0]],['Propose','FSCORE',fscore[0]],\n",
    "                   ['Extension','Accuracy',accuracy[1]],['Extension','Precision',precision[1]],['Extension','Recall',recall[1]],['Extension','FSCORE',fscore[1]],\n",
    "                  ],columns=['Parameters','Algorithms','Value'])\n",
    "df.pivot(\"Parameters\", \"Algorithms\", \"Value\").plot(kind='bar', figsize=(6, 3))\n",
    "plt.title(\"All Algorithms Performance Graph\")\n",
    "plt.show()"
   ]
  },
  {
   "cell_type": "markdown",
   "metadata": {},
   "source": [
    "# Comparison"
   ]
  },
  {
   "cell_type": "code",
   "execution_count": 64,
   "metadata": {},
   "outputs": [],
   "source": [
    "#creating dataframe\n",
    "import pandas as pd\n",
    "import numpy as np\n",
    "result = pd.DataFrame({ 'ML Model' : ML_Model,\n",
    "                        'Accuracy' : acc,\n",
    "                        'f1_score' : f1,\n",
    "                        'Recall'   : rec,\n",
    "                        'Precision': prec,\n",
    "                        \n",
    "                      })"
   ]
  },
  {
   "cell_type": "code",
   "execution_count": 65,
   "metadata": {},
   "outputs": [
    {
     "data": {
      "text/html": [
       "<div>\n",
       "<style scoped>\n",
       "    .dataframe tbody tr th:only-of-type {\n",
       "        vertical-align: middle;\n",
       "    }\n",
       "\n",
       "    .dataframe tbody tr th {\n",
       "        vertical-align: top;\n",
       "    }\n",
       "\n",
       "    .dataframe thead th {\n",
       "        text-align: right;\n",
       "    }\n",
       "</style>\n",
       "<table border=\"1\" class=\"dataframe\">\n",
       "  <thead>\n",
       "    <tr style=\"text-align: right;\">\n",
       "      <th></th>\n",
       "      <th>ML Model</th>\n",
       "      <th>Accuracy</th>\n",
       "      <th>f1_score</th>\n",
       "      <th>Recall</th>\n",
       "      <th>Precision</th>\n",
       "    </tr>\n",
       "  </thead>\n",
       "  <tbody>\n",
       "    <tr>\n",
       "      <th>0</th>\n",
       "      <td>Propose 3DCNN Encoder Decoder Model</td>\n",
       "      <td>0.911</td>\n",
       "      <td>0.9</td>\n",
       "      <td>1.0</td>\n",
       "      <td>0.818</td>\n",
       "    </tr>\n",
       "    <tr>\n",
       "      <th>1</th>\n",
       "      <td>Extension Ensemble CNN + Bidirectional + GRU M...</td>\n",
       "      <td>1.000</td>\n",
       "      <td>1.0</td>\n",
       "      <td>1.0</td>\n",
       "      <td>1.000</td>\n",
       "    </tr>\n",
       "  </tbody>\n",
       "</table>\n",
       "</div>"
      ],
      "text/plain": [
       "                                            ML Model  Accuracy  f1_score  \\\n",
       "0                Propose 3DCNN Encoder Decoder Model     0.911       0.9   \n",
       "1  Extension Ensemble CNN + Bidirectional + GRU M...     1.000       1.0   \n",
       "\n",
       "   Recall  Precision  \n",
       "0     1.0      0.818  \n",
       "1     1.0      1.000  "
      ]
     },
     "execution_count": 65,
     "metadata": {},
     "output_type": "execute_result"
    }
   ],
   "source": [
    "result"
   ]
  },
  {
   "cell_type": "markdown",
   "metadata": {},
   "source": [
    "# Graph"
   ]
  },
  {
   "cell_type": "code",
   "execution_count": 66,
   "metadata": {},
   "outputs": [],
   "source": [
    "classifier = ML_Model\n",
    "y_pos = np.arange(len(classifier))"
   ]
  },
  {
   "cell_type": "code",
   "execution_count": 68,
   "metadata": {},
   "outputs": [
    {
     "data": {
      "image/png": "[encoded data removed]",
      "text/plain": [
       "<Figure size 432x288 with 1 Axes>"
      ]
     },
     "metadata": {
      "needs_background": "light"
     },
     "output_type": "display_data"
    }
   ],
   "source": [
    "import matplotlib.pyplot as plt2\n",
    "plt2.barh(y_pos, acc, align='center', alpha=0.5,color='blue')\n",
    "plt2.yticks(y_pos, classifier)\n",
    "plt2.xlabel('Accuracy Score')\n",
    "plt2.title('Classification Performance')\n",
    "plt2.show()"
   ]
  },
  {
   "cell_type": "code",
   "execution_count": 69,
   "metadata": {},
   "outputs": [
    {
     "data": {
      "image/png": "[encoded data removed]",
      "text/plain": [
       "<Figure size 432x288 with 1 Axes>"
      ]
     },
     "metadata": {
      "needs_background": "light"
     },
     "output_type": "display_data"
    }
   ],
   "source": [
    "import matplotlib.pyplot as plt2\n",
    "plt2.barh(y_pos, prec, align='center', alpha=0.5,color='red')\n",
    "plt2.yticks(y_pos, classifier)\n",
    "plt2.xlabel('Precision Score')\n",
    "plt2.title('Classification Performance')\n",
    "plt2.show()"
   ]
  },
  {
   "cell_type": "code",
   "execution_count": 70,
   "metadata": {},
   "outputs": [
    {
     "data": {
      "image/png": "[encoded data removed]",
      "text/plain": [
       "<Figure size 432x288 with 1 Axes>"
      ]
     },
     "metadata": {
      "needs_background": "light"
     },
     "output_type": "display_data"
    }
   ],
   "source": [
    "import matplotlib.pyplot as plt2\n",
    "plt2.barh(y_pos, rec, align='center', alpha=0.5,color='yellow')\n",
    "plt2.yticks(y_pos, classifier)\n",
    "plt2.xlabel('Recall Score')\n",
    "plt2.title('Classification Performance')\n",
    "plt2.show()"
   ]
  },
  {
   "cell_type": "code",
   "execution_count": 71,
   "metadata": {},
   "outputs": [
    {
     "data": {
      "image/png": "[encoded data removed]",
      "text/plain": [
       "<Figure size 432x288 with 1 Axes>"
      ]
     },
     "metadata": {
      "needs_background": "light"
     },
     "output_type": "display_data"
    }
   ],
   "source": [
    "import matplotlib.pyplot as plt2\n",
    "plt2.barh(y_pos, f1, align='center', alpha=0.5,color='pink')\n",
    "plt2.yticks(y_pos, classifier)\n",
    "plt2.xlabel('F1 Score')\n",
    "plt2.title('Classification Performance')\n",
    "plt2.show()"
   ]
  },
  {
   "cell_type": "markdown",
   "metadata": {},
   "source": [
    "# Prediction"
   ]
  },
  {
   "cell_type": "code",
   "execution_count": 75,
   "metadata": {},
   "outputs": [
    {
     "name": "stdout",
     "output_type": "stream",
     "text": [
      "WARNING:tensorflow:Layer gru_3 will not use cuDNN kernels since it doesn't meet the criteria. It will use a generic GPU kernel as fallback when running on GPU.\n",
      "WARNING:tensorflow:Layer gru_3 will not use cuDNN kernels since it doesn't meet the criteria. It will use a generic GPU kernel as fallback when running on GPU.\n",
      "WARNING:tensorflow:Layer gru_3 will not use cuDNN kernels since it doesn't meet the criteria. It will use a generic GPU kernel as fallback when running on GPU.\n"
     ]
    }
   ],
   "source": [
    "from tensorflow.keras.models import Model, load_model\n",
    "model = load_model('model.h5')"
   ]
  },
  {
   "cell_type": "code",
   "execution_count": 79,
   "metadata": {},
   "outputs": [],
   "source": [
    "int_features= [0.130319029,7.408252239,52.88221741,-0.670829296,-0.505149961,-0.618912101,-0.60206002,-0.618912101,-0.505149961,-0.618912101,-0.249877468\n",
    "]"
   ]
  },
  {
   "cell_type": "code",
   "execution_count": 80,
   "metadata": {},
   "outputs": [],
   "source": [
    "dj = np.asarray(int_features)\n",
    "dj = dj.reshape(-1,11,1)"
   ]
  },
  {
   "cell_type": "code",
   "execution_count": 81,
   "metadata": {},
   "outputs": [],
   "source": [
    "prediction_proba = model.predict(dj)\n",
    "predict=np.argmax(prediction_proba,axis=1)"
   ]
  },
  {
   "cell_type": "code",
   "execution_count": 82,
   "metadata": {},
   "outputs": [],
   "source": [
    "if predict==1:\n",
    "    output='Methane!'\n",
    "elif predict==0:\n",
    "    output='Sulphur!'"
   ]
  },
  {
   "cell_type": "code",
   "execution_count": 83,
   "metadata": {},
   "outputs": [
    {
     "name": "stdout",
     "output_type": "stream",
     "text": [
      "Methane!\n"
     ]
    }
   ],
   "source": [
    "print(output)"
   ]
  },
  {
   "cell_type": "code",
   "execution_count": null,
   "metadata": {},
   "outputs": [],
   "source": []
  }
 ],
 "metadata": {
  "kernelspec": {
   "display_name": "Python 3",
   "language": "python",
   "name": "python3"
  },
  "language_info": {
   "codemirror_mode": {
    "name": "ipython",
    "version": 3
   },
   "file_extension": ".py",
   "mimetype": "text/x-python",
   "name": "python",
   "nbconvert_exporter": "python",
   "pygments_lexer": "ipython3",
   "version": "3.7.4"
  }
 },
 "nbformat": 4,
 "nbformat_minor": 5
}
